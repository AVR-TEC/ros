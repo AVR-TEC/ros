{
 "cells": [
  {
   "cell_type": "markdown",
   "metadata": {
    "deletable": true,
    "editable": true
   },
   "source": [
    "# How to Run this Notebook in the ros:indigo docker container\n",
    "## Run the Docker Container\n",
    "### Do port forwarding.\n",
    "\n",
    "docker run -it --name=ros_jupyter -v ~/Downloads/Didi-Training-Release-1:/home/didi <strong>-p 8888:8888</strong> ros:indigo\n",
    "\n",
    "### Add a volume pointed to the directory with the training data.\n",
    "\n",
    "This is the parameter and argument to use to do that: -v host_directory:container_directory\n",
    "\n",
    "docker run -it --name=ros_jupyter <strong>-v ~/Downloads/Didi-Training-Release-1:/home/didi</strong> -p 8888:8888 ros:indigo\n",
    "\n",
    "### Install Jupyter in the Docker Container\n",
    "\n",
    "This is how I did it. \n",
    "1. Install [pip](http://stackoverflow.com/questions/36611052/install-pip-in-docker)\n",
    "\n",
    "```\n",
    "sudo apt-get update\n",
    "apt-get install python-pip\n",
    "pip install --upgrade pip\n",
    "```\n",
    "\n",
    "2. Install jupyter with pip \n",
    "\n",
    "```sudo pip install jupyter```\n",
    "\n",
    "### Run the Jupyter Notebook in the docker container.\n",
    "\n",
    "The jupyter notebook must be [running on 0.0.0.0](http://stackoverflow.com/questions/38830610/access-jupyter-notebook-running-on-docker-container) instead of local host.\n",
    "\n",
    "```jupyter notebook --ip 0.0.0.0```\n",
    "\n",
    "Then you can go ahead and open it by copy and pasting the url or ctrl+clicking it.\n",
    "![Jupyter-IP](./resources/jupyter_ip.png)"
   ]
  },
  {
   "cell_type": "markdown",
   "metadata": {
    "deletable": true,
    "editable": true
   },
   "source": [
    "# Using rosbag\n",
    "First let's look at the API example from https://github.com/bostondiditeam/ros/blob/master/docs/rosbag.md"
   ]
  },
  {
   "cell_type": "markdown",
   "metadata": {
    "deletable": true,
    "editable": true
   },
   "source": [
    "Example usage for write:"
   ]
  },
  {
   "cell_type": "code",
   "execution_count": 97,
   "metadata": {
    "collapsed": true,
    "deletable": true,
    "editable": true
   },
   "outputs": [],
   "source": [
    "import rosbag\n",
    "from std_msgs.msg import Int32, String\n",
    "\n",
    "bag = rosbag.Bag('test.bag', 'w')\n",
    "\n",
    "try:\n",
    "    str = String()\n",
    "    str.data = 'foo'\n",
    "\n",
    "    i = Int32()\n",
    "    i.data = 42\n",
    "\n",
    "    bag.write('chatter', str)\n",
    "    bag.write('numbers', i)\n",
    "finally:\n",
    "    bag.close()"
   ]
  },
  {
   "cell_type": "markdown",
   "metadata": {
    "deletable": true,
    "editable": true
   },
   "source": [
    "Example usage for read:"
   ]
  },
  {
   "cell_type": "code",
   "execution_count": 98,
   "metadata": {
    "collapsed": false,
    "deletable": true,
    "editable": true
   },
   "outputs": [
    {
     "name": "stdout",
     "output_type": "stream",
     "text": [
      "data: foo\n",
      "data: 42\n"
     ]
    }
   ],
   "source": [
    "bag = rosbag.Bag('test.bag')\n",
    "for topic, msg, t in bag.read_messages(topics=['chatter', 'numbers']):\n",
    "    print msg\n",
    "bag.close()"
   ]
  },
  {
   "cell_type": "markdown",
   "metadata": {
    "deletable": true,
    "editable": true
   },
   "source": [
    "## Look at the bags\n"
   ]
  },
  {
   "cell_type": "code",
   "execution_count": 13,
   "metadata": {
    "collapsed": false,
    "deletable": true,
    "editable": true
   },
   "outputs": [
    {
     "data": {
      "text/plain": [
       "['NOISY_spin_2.bag',\n",
       " 'spin_3.bag',\n",
       " 'approach_1.bag',\n",
       " '.ipynb_checkpoints',\n",
       " 'Noisy',\n",
       " '5mph.bag',\n",
       " 'overtake.bag',\n",
       " 'intersection_1.bag',\n",
       " 'test.bag',\n",
       " 'corner_pass.bag',\n",
       " 'spin.bag',\n",
       " 'approach_3.bag',\n",
       " 'Untitled.ipynb',\n",
       " 'spin_shoreline.bag',\n",
       " 'approach_2.bag',\n",
       " 'sitting.bag',\n",
       " 'README.md']"
      ]
     },
     "execution_count": 13,
     "metadata": {},
     "output_type": "execute_result"
    }
   ],
   "source": [
    "import os\n",
    "\n",
    "# I set up a volume in the docker container that points to the data on my host machine.\n",
    "os.listdir(\"/home/didi/\")"
   ]
  },
  {
   "cell_type": "markdown",
   "metadata": {
    "deletable": true,
    "editable": true
   },
   "source": [
    "Notice that 'test.bag' is included in the list.  I'm also running the Jupyter notebook in this volume for convenience."
   ]
  },
  {
   "cell_type": "markdown",
   "metadata": {
    "deletable": true,
    "editable": true
   },
   "source": [
    "### Check out a sample from each bag\n",
    "Loading all the data from each bag wouldn't be practical."
   ]
  },
  {
   "cell_type": "code",
   "execution_count": 15,
   "metadata": {
    "collapsed": true,
    "deletable": true,
    "editable": true
   },
   "outputs": [],
   "source": [
    "bag = rosbag.Bag('NOISY_spin_2.bag') # TAB Completion works in Jupyter for the filenames."
   ]
  },
  {
   "cell_type": "markdown",
   "metadata": {
    "deletable": true,
    "editable": true
   },
   "source": [
    "#### Jupyter Tip - Use Tab and Shift-Tab a lot\n",
    "Tab will open a suggestion list or autocomplete a symbol.\n",
    "![Tab-Suggestions](./resources/jupyter_tip_1.png)"
   ]
  },
  {
   "cell_type": "code",
   "execution_count": 42,
   "metadata": {
    "collapsed": false,
    "deletable": true,
    "editable": true
   },
   "outputs": [
    {
     "data": {
      "text/plain": [
       "['/diagnostics_toplevel_state',\n",
       " '/gps/rtkfix',\n",
       " '/cloud_nodelet/parameter_descriptions',\n",
       " '/obs1/gps/rtkfix',\n",
       " '/gps/time',\n",
       " '/image_raw',\n",
       " '/radar/points',\n",
       " '/rosout',\n",
       " '/obs1/gps/time',\n",
       " '/tf',\n",
       " '/velodyne_points',\n",
       " '/velodyne_packets',\n",
       " '/velodyne_nodelet_manager/bond',\n",
       " '/obs1/gps/fix',\n",
       " '/gps/fix',\n",
       " '/radar/tracks',\n",
       " '/diagnostics',\n",
       " '/cloud_nodelet/parameter_updates',\n",
       " '/radar/range',\n",
       " '/diagnostics_agg']"
      ]
     },
     "execution_count": 42,
     "metadata": {},
     "output_type": "execute_result"
    }
   ],
   "source": [
    "# Let's see what topics we have available to us in the NOISY_spin_2.bag\n",
    "info = bag.get_type_and_topic_info()\n",
    "info.topics.keys()"
   ]
  },
  {
   "cell_type": "code",
   "execution_count": 52,
   "metadata": {
    "collapsed": false,
    "deletable": true,
    "editable": true
   },
   "outputs": [
    {
     "data": {
      "text/plain": [
       "TopicTuple(msg_type='nav_msgs/Odometry', message_count=3050, connections=1, frequency=10.009388192450785)"
      ]
     },
     "execution_count": 52,
     "metadata": {},
     "output_type": "execute_result"
    }
   ],
   "source": [
    "# Let's take a closer look at '/obs1/gps/rtkfix'\n",
    "info.topics[\"/obs1/gps/rtkfix\"]"
   ]
  },
  {
   "cell_type": "code",
   "execution_count": 94,
   "metadata": {
    "collapsed": false,
    "deletable": true,
    "editable": true
   },
   "outputs": [
    {
     "name": "stdout",
     "output_type": "stream",
     "text": [
      "Type: <class 'rosbag.bag.BagMessage'>\n",
      "Message:\n",
      "BagMessage(topic='/obs1/gps/rtkfix', message=header: \n",
      "  seq: 14758\n",
      "  stamp: \n",
      "    secs: 1490149914\n",
      "    nsecs: 857044240\n",
      "  frame_id: gps\n",
      "child_frame_id: ''\n",
      "pose: \n",
      "  pose: \n",
      "    position: \n",
      "      x: -7.327\n",
      "      y: -15.881\n",
      "      z: -0.051\n",
      "    orientation: \n",
      "      x: 9.47027447621e-05\n",
      "      y: -4.7351372381e-05\n",
      "      z: 0.000994378820002\n",
      "      w: 0.0\n",
      "  covariance: [196000000.0, 0.0, 0.0, 0.0, 0.0, 0.0, 0.0, 196000000.0, 0.0, 0.0, 0.0, 0.0, 0.0, 0.0, 1368999936.0, 0.0, 0.0, 0.0, 0.0, 0.0, 0.0, 1000.0, 0.0, 0.0, 0.0, 0.0, 0.0, 0.0, 1000.0, 0.0, 0.0, 0.0, 0.0, 0.0, 0.0, 1000.0]\n",
      "twist: \n",
      "  twist: \n",
      "    linear: \n",
      "      x: 0.002\n",
      "      y: -0.001\n",
      "      z: 0.021\n",
      "    angular: \n",
      "      x: 0.0\n",
      "      y: 0.0\n",
      "      z: 0.0\n",
      "  covariance: [1.0, 0.0, 0.0, 0.0, 0.0, 0.0, 0.0, 1.0, 0.0, 0.0, 0.0, 0.0, 0.0, 0.0, 1.0, 0.0, 0.0, 0.0, 0.0, 0.0, 0.0, 1000.0, 0.0, 0.0, 0.0, 0.0, 0.0, 0.0, 1000.0, 0.0, 0.0, 0.0, 0.0, 0.0, 0.0, 1000.0], timestamp=rospy.Time[1490149914877343408])\n"
     ]
    }
   ],
   "source": [
    "# rosbag.Bag.read_messages() creates a generator that yields a rosbag.bag.BagMessage\n",
    "bag_reader = bag.read_messages(topics=['/obs1/gps/rtkfix'])\n",
    "sample_message = bag_reader.next()\n",
    "print \"Type:\", type(sample_message)\n",
    "print \"Message:\\n\",sample_message"
   ]
  },
  {
   "cell_type": "code",
   "execution_count": 95,
   "metadata": {
    "collapsed": false,
    "deletable": true,
    "editable": true
   },
   "outputs": [
    {
     "data": {
      "text/plain": [
       "-7.327"
      ]
     },
     "execution_count": 95,
     "metadata": {},
     "output_type": "execute_result"
    }
   ],
   "source": [
    "# You can access all of the above data with dot notation\n",
    "sample_message.message.pose.pose.position.x"
   ]
  },
  {
   "cell_type": "code",
   "execution_count": null,
   "metadata": {
    "collapsed": true,
    "deletable": true,
    "editable": true
   },
   "outputs": [],
   "source": []
  }
 ],
 "metadata": {
  "kernelspec": {
   "display_name": "Python 2",
   "language": "python",
   "name": "python2"
  },
  "language_info": {
   "codemirror_mode": {
    "name": "ipython",
    "version": 2
   },
   "file_extension": ".py",
   "mimetype": "text/x-python",
   "name": "python",
   "nbconvert_exporter": "python",
   "pygments_lexer": "ipython2",
   "version": "2.7.6"
  }
 },
 "nbformat": 4,
 "nbformat_minor": 2
}
