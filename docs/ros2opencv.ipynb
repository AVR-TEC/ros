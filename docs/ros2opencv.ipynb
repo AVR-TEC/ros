{
 "cells": [
  {
   "cell_type": "markdown",
   "metadata": {},
   "source": [
    "**Main references** :\n",
    "\n",
    "* http://wiki.ros.org/cv_bridge/Tutorials/ConvertingBetweenROSImagesAndOpenCVImagesPython \n",
    "* http://answers.ros.org/question/27713/how-to-recover-the-saved-images-in-a-bagfile-to-jpg-or-png/\n",
    "\n",
    "Installation reference : http://answers.ros.org/question/219092/how-to-useinstall-opencv-with-indigo/\n",
    "\n",
    "Install opencv and the interface libraries in ros :\n",
    "```\n",
    "apt-get install ros-indigo-cv-bridge\n",
    "```\n",
    "\n",
    "This may take a while to setup..."
   ]
  },
  {
   "cell_type": "code",
   "execution_count": 1,
   "metadata": {
    "collapsed": true
   },
   "outputs": [],
   "source": [
    "import rosbag\n",
    "import cv2\n",
    "from sensor_msgs.msg import Image\n",
    "from cv_bridge import CvBridge, CvBridgeError"
   ]
  },
  {
   "cell_type": "code",
   "execution_count": 2,
   "metadata": {
    "collapsed": false
   },
   "outputs": [],
   "source": [
    "filename = 'spin.bag' #ros bag file\n",
    "nb_save = 5 #number of images to save\n",
    "save_dir = \"./test\"\n",
    "\n",
    "bridge = CvBridge()\n",
    "with rosbag.Bag(filename, 'r') as bag:\n",
    "    i_save = 0\n",
    "    for topic, msg, t in bag.read_messages():\n",
    "        if topic == \"/image_raw\" :\n",
    "            try :\n",
    "                cv_image = bridge.imgmsg_to_cv2(msg, \"bgr8\")\n",
    "                i_save += 1\n",
    "            except CvBridgeError, e:\n",
    "                print e\n",
    "            timestr = \"%.3f\" % msg.header.stamp.to_sec()\n",
    "            image_name = save_dir+timestr+\".jpg\"\n",
    "            cv2.imwrite(image_name, cv_image)    \n",
    "        if i_save > nb_save : break"
   ]
  },
  {
   "cell_type": "markdown",
   "metadata": {},
   "source": [
    "Here is a sample saved images :\n",
    "![](test/1490149650.406.jpg)"
   ]
  },
  {
   "cell_type": "code",
   "execution_count": null,
   "metadata": {
    "collapsed": true
   },
   "outputs": [],
   "source": []
  }
 ],
 "metadata": {
  "kernelspec": {
   "display_name": "Python 2",
   "language": "python",
   "name": "python2"
  },
  "language_info": {
   "codemirror_mode": {
    "name": "ipython",
    "version": 2
   },
   "file_extension": ".py",
   "mimetype": "text/x-python",
   "name": "python",
   "nbconvert_exporter": "python",
   "pygments_lexer": "ipython2",
   "version": "2.7.6"
  }
 },
 "nbformat": 4,
 "nbformat_minor": 2
}
